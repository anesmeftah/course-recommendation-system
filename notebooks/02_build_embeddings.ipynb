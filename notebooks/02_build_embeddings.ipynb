{
 "cells": [
  {
   "cell_type": "code",
   "execution_count": 2,
   "metadata": {
    "colab": {
     "base_uri": "https://localhost:8080/"
    },
    "id": "VNanp4KG_SPp",
    "outputId": "9d921dc3-b261-4c7f-be38-20758af5f1b3"
   },
   "outputs": [
    {
     "name": "stdout",
     "output_type": "stream",
     "text": [
      "Cloning into 'course-recommendation-system'...\n",
      "remote: Enumerating objects: 40, done.\u001b[K\n",
      "remote: Counting objects: 100% (40/40), done.\u001b[K\n",
      "remote: Compressing objects: 100% (33/33), done.\u001b[K\n",
      "remote: Total 40 (delta 7), reused 20 (delta 1), pack-reused 0 (from 0)\u001b[K\n",
      "Receiving objects: 100% (40/40), 4.93 MiB | 3.62 MiB/s, done.\n",
      "Resolving deltas: 100% (7/7), done.\n"
     ]
    }
   ],
   "source": [
    "!git clone https://github.com/anesmeftah/course-recommendation-system.git"
   ]
  },
  {
   "cell_type": "code",
   "execution_count": 3,
   "metadata": {
    "colab": {
     "base_uri": "https://localhost:8080/",
     "height": 493,
     "referenced_widgets": [
      "b5680db537ea43728ce4437fdb3c6018",
      "6a59f72272a44073a30a93a9785ed256",
      "3808cfcf0bff4169bb122139a6328621",
      "d4c678c8b4d74dafb16ea9539849f96b",
      "ce58d2dd977340c0bd7b1762f9ca3512",
      "cff2a66984de4d86aed96d9f6d095a28",
      "92551b9993714355b88255885e939578",
      "d8076bdac39a43cfb6aa2eeaa983a260",
      "febb2daa06504da7ab1bdb99bcac9eb9",
      "535659b8db93420781ac544363114e35",
      "815de84539364fe798bb4e0f58a3a70b",
      "e9006b4e0d2c4856b9da1de945d8eca5",
      "d1969bcd998e4af28dbbf1c3bfe9ac48",
      "cb4123085b6947cfa16e2994e980fcd2",
      "75094209b9474ca896533841dda4c6b3",
      "fb25d85667324470968810ab380079d1",
      "082f6679d4cd400a92e22b5069070d8b",
      "4d186bf712ed4452adcb91795d94227a",
      "ac22249eada446d1936099b452c92079",
      "828507ea42994ef3b3eacc532c999f98",
      "2885e984cd624d25ada0f5efa65a6d9e",
      "dce2dc312d3742cfb35bfa0e7062ce90",
      "22cfcc126ff34cfb8a63fbbe270db92b",
      "83f77f0f4daf4ff19b778f59ff242d0e",
      "23ab758ee04c4e1fbdef27672519fcb6",
      "3d6d6ed3041e49669142bc34cb635005",
      "56f0a4c36d6c4197afdd58d15df87a38",
      "1cab2164266741a98bc7ff1f5f317342",
      "d32ea95795fd417c8e689aa57456b282",
      "33c97667369640cb99a3bb9d233ddfa5",
      "a52623406a2c484388655f2c461c5864",
      "55cd233c502240d996be358c3d2a89f8",
      "b577d584f1a34665bd5eb4eb6e843410",
      "5ec66b884cee4501ab6c572f2cb9da4e",
      "861eccf5076c4bfb83968dd586eee4cf",
      "7bc068c3dee8403c8ffe470a9945635f",
      "e16b3ad2c2af4b54b6a958e85b1eb0fb",
      "02083ee8c6834fd5bedcec1dec22a009",
      "058ee53b93224fa885d231487cf443cb",
      "cf34173883aa47bebefe40af6028e129",
      "48753c2de35f488398644e63f1117a31",
      "59f0ab4d92184831a09b67f5d72f1de9",
      "e93ef452c6e042ee8d0afd61c68dda32",
      "2beda51ac27340a084d805303feacba2",
      "bbe48f3cb1a34af89ed87b50cc832ca7",
      "cd28681fa76f4597bf5ecd27c57cb9e6",
      "3f50c0dd128d4da7963bff5fdaf88cd8",
      "b5d577b35e2c4f9f84cd6270a49c6dc5",
      "3e59692a4feb407684a96ccdc9b2219b",
      "7a8cc25fc6ef46e3b37e50c18b05fd3d",
      "d67468d200c64b24a7c14034156f90d2",
      "ab53ae1eddfd4aa180b5f436e3f23c11",
      "6fa37bef4e784b0eaf1da5a25d66cb91",
      "d21c167003354f859cf91a5855297d0c",
      "e83e113dde124a519a46bf8300901bd3",
      "f9d0b775b3ca47b7861fcae3f51470b9",
      "e1177d5346fa4f76b4ede1f4308386f8",
      "72aedc340db34691bdd6f18b9355e29a",
      "67493eed71f14be7a3b6fbbdb79b2587",
      "334c527aeb97430fa6bbbcb90a80b6ac",
      "eb486545cbc142deb32342e869af8a8f",
      "5b33bdef67684769b535890ff5b49397",
      "ac8105ee06e64c41abb3775a51aad618",
      "a371504cd1144984aee04758b7f4feab",
      "72d10ba45ddf4ab183ff635b31031f48",
      "e821e9e420ee4e6d9bc4190142d60ec5",
      "bc3670832a3d4e06b323982f2778fd4f",
      "0ec640c35ce1447089eeac1b7624e619",
      "deea48e214f24647bec8b0b40f05b080",
      "708234511ca24b459bc9a92a3bb854c4",
      "d7089549526b462eb2aeb9e939729f50",
      "2198b39bc6a2438287f0d2fa24d80c76",
      "da110415f8c34135a43d2804904d3cfe",
      "8b9266f92d1b40e38d709eb17a56740f",
      "eba193583398431781387eef0506f931",
      "7157bb478f0f46adae714f5ba1c9256c",
      "486d45f8983c4cb5af4627eee8e1de43",
      "813c048cc295459985a27b76c18532d5",
      "90e399a447e047d3b9d151c326acc4ee",
      "0b7a8fc30e81486b93456e11c39025a5",
      "ea51243cd4384a31b6ebd6ccaf05aa8d",
      "b46d0b2cdc56419a92ce45606b22f28e",
      "5d747af591e04479a9133d65fe2e6d04",
      "845980a0bd6d4ae9a7543a1f66d87c39",
      "1534eaf96ca947ef8cce226307b3b7a2",
      "2f5d976f5b3640d7aac84430ccdc1fdd",
      "65a5789684344b71a8540e7850e76313",
      "d780e95c6d9c4e4691a807fe01094fad",
      "ddbdc7b5a52a4d69928c0fafcf603a28",
      "22b4a36a084347afbeba4cdd68c74761",
      "5da321ec7c904202b79f9f1f66e49ffc",
      "3f1a243b2b7847cc86a6b60d4b8db6c7",
      "2e797ecf1f8e4d9aac6ac9af5898e5cb",
      "59e0bcce704340c28e552d2afd4d4f8d",
      "8170f7f65f1745c4b7b1b75fe570ace2",
      "f80a7d408c4a4c07a2c26e9d2852fc1f",
      "8e21de7ff4ba49acbe34d9518c1f54b7",
      "c5796d386557490a9407be6971d65b7c",
      "71649ef5171949b7a11af7461379d178",
      "56327b833d85497caace5ff8e3ca4394",
      "faa6b9ba34894c8d8faea1edc344ff2e",
      "ab0269c1f2c84d29b2870985d23deeee",
      "886c9ad1dcda4fac98914893f7175d7a",
      "1a5331329a7c453883792faa810bb06a",
      "e688580af220420d84cfb04c7800dbd7",
      "b21c10e169314858a64e2e25c393b79e",
      "89062b0eab3b451eb8fda7ad0b6f5a51",
      "8a184962df2b418ab3b53e60ee90d031",
      "7525da5239704e43bca151abe86bc903",
      "22827ca7de6d40a696f2b8780cae9ccf",
      "2378493e9ba84d6891743be46eebd76b",
      "271e06a3bca24fea8899b91688ae0d44",
      "9bfef8810fcb4b69bd93e385161022c3",
      "0a15275870374856a10fb3f44de773a4",
      "7a800732143c4001b33f71dda7e025e4",
      "6afb2de1777d45faab5ffe9e86a7963a",
      "e8ee24c8dac844439954d348005f83ae",
      "ff518e1de5534375b5c73d2c0bdef241",
      "51de3f5bd79a47558ab94eae81c2db15",
      "67a64a6d490b4f5cb52ec5b9f649f29a",
      "91a35d8a36ce4ea897d71198c1b40824"
     ]
    },
    "collapsed": true,
    "id": "j9C1qKmF_hFF",
    "outputId": "3a299654-68f1-4bd8-b839-c6948f6c6f3e"
   },
   "outputs": [
    {
     "name": "stderr",
     "output_type": "stream",
     "text": [
      "/usr/local/lib/python3.12/dist-packages/huggingface_hub/utils/_auth.py:94: UserWarning: \n",
      "The secret `HF_TOKEN` does not exist in your Colab secrets.\n",
      "To authenticate with the Hugging Face Hub, create a token in your settings tab (https://huggingface.co/settings/tokens), set it as secret in your Google Colab and restart your session.\n",
      "You will be able to reuse this secret in all of your notebooks.\n",
      "Please note that authentication is recommended but still optional to access public models or datasets.\n",
      "  warnings.warn(\n"
     ]
    },
    {
     "data": {
      "application/vnd.jupyter.widget-view+json": {
       "model_id": "b5680db537ea43728ce4437fdb3c6018",
       "version_major": 2,
       "version_minor": 0
      },
      "text/plain": [
       "modules.json:   0%|          | 0.00/349 [00:00<?, ?B/s]"
      ]
     },
     "metadata": {},
     "output_type": "display_data"
    },
    {
     "data": {
      "application/vnd.jupyter.widget-view+json": {
       "model_id": "e9006b4e0d2c4856b9da1de945d8eca5",
       "version_major": 2,
       "version_minor": 0
      },
      "text/plain": [
       "config_sentence_transformers.json:   0%|          | 0.00/116 [00:00<?, ?B/s]"
      ]
     },
     "metadata": {},
     "output_type": "display_data"
    },
    {
     "data": {
      "application/vnd.jupyter.widget-view+json": {
       "model_id": "22cfcc126ff34cfb8a63fbbe270db92b",
       "version_major": 2,
       "version_minor": 0
      },
      "text/plain": [
       "README.md: 0.00B [00:00, ?B/s]"
      ]
     },
     "metadata": {},
     "output_type": "display_data"
    },
    {
     "data": {
      "application/vnd.jupyter.widget-view+json": {
       "model_id": "5ec66b884cee4501ab6c572f2cb9da4e",
       "version_major": 2,
       "version_minor": 0
      },
      "text/plain": [
       "sentence_bert_config.json:   0%|          | 0.00/53.0 [00:00<?, ?B/s]"
      ]
     },
     "metadata": {},
     "output_type": "display_data"
    },
    {
     "data": {
      "application/vnd.jupyter.widget-view+json": {
       "model_id": "bbe48f3cb1a34af89ed87b50cc832ca7",
       "version_major": 2,
       "version_minor": 0
      },
      "text/plain": [
       "config.json:   0%|          | 0.00/612 [00:00<?, ?B/s]"
      ]
     },
     "metadata": {},
     "output_type": "display_data"
    },
    {
     "data": {
      "application/vnd.jupyter.widget-view+json": {
       "model_id": "f9d0b775b3ca47b7861fcae3f51470b9",
       "version_major": 2,
       "version_minor": 0
      },
      "text/plain": [
       "model.safetensors:   0%|          | 0.00/90.9M [00:00<?, ?B/s]"
      ]
     },
     "metadata": {},
     "output_type": "display_data"
    },
    {
     "data": {
      "application/vnd.jupyter.widget-view+json": {
       "model_id": "bc3670832a3d4e06b323982f2778fd4f",
       "version_major": 2,
       "version_minor": 0
      },
      "text/plain": [
       "tokenizer_config.json:   0%|          | 0.00/350 [00:00<?, ?B/s]"
      ]
     },
     "metadata": {},
     "output_type": "display_data"
    },
    {
     "data": {
      "application/vnd.jupyter.widget-view+json": {
       "model_id": "813c048cc295459985a27b76c18532d5",
       "version_major": 2,
       "version_minor": 0
      },
      "text/plain": [
       "vocab.txt: 0.00B [00:00, ?B/s]"
      ]
     },
     "metadata": {},
     "output_type": "display_data"
    },
    {
     "data": {
      "application/vnd.jupyter.widget-view+json": {
       "model_id": "ddbdc7b5a52a4d69928c0fafcf603a28",
       "version_major": 2,
       "version_minor": 0
      },
      "text/plain": [
       "tokenizer.json: 0.00B [00:00, ?B/s]"
      ]
     },
     "metadata": {},
     "output_type": "display_data"
    },
    {
     "data": {
      "application/vnd.jupyter.widget-view+json": {
       "model_id": "56327b833d85497caace5ff8e3ca4394",
       "version_major": 2,
       "version_minor": 0
      },
      "text/plain": [
       "special_tokens_map.json:   0%|          | 0.00/112 [00:00<?, ?B/s]"
      ]
     },
     "metadata": {},
     "output_type": "display_data"
    },
    {
     "data": {
      "application/vnd.jupyter.widget-view+json": {
       "model_id": "2378493e9ba84d6891743be46eebd76b",
       "version_major": 2,
       "version_minor": 0
      },
      "text/plain": [
       "config.json:   0%|          | 0.00/190 [00:00<?, ?B/s]"
      ]
     },
     "metadata": {},
     "output_type": "display_data"
    }
   ],
   "source": [
    "from sentence_transformers import SentenceTransformer\n",
    "model = SentenceTransformer('sentence-transformers/all-MiniLM-L6-v2')"
   ]
  },
  {
   "cell_type": "code",
   "execution_count": 4,
   "metadata": {
    "colab": {
     "base_uri": "https://localhost:8080/",
     "height": 504
    },
    "id": "oaisf7yZAPuu",
    "outputId": "de3db14e-eba2-49a4-d2e5-3b4e79493670"
   },
   "outputs": [
    {
     "data": {
      "application/vnd.google.colaboratory.intrinsic+json": {
       "summary": "{\n  \"name\": \"data\",\n  \"rows\": 991,\n  \"fields\": [\n    {\n      \"column\": \"title\",\n      \"properties\": {\n        \"dtype\": \"string\",\n        \"num_unique_values\": 987,\n        \"samples\": [\n          \"meta social media marketing\",\n          \"convolutional neural networks in tensorflow\",\n          \"stanford introduction to food and health\"\n        ],\n        \"semantic_type\": \"\",\n        \"description\": \"\"\n      }\n    },\n    {\n      \"column\": \"description\",\n      \"properties\": {\n        \"dtype\": \"string\",\n        \"num_unique_values\": 991,\n        \"samples\": [\n          \"when you complete this professional certificate program, you will have experience in sas programming using sas 9 and will be able to process data using structured query language in the sas environment, use the sas macro facility to design, write, and debug dynamic macro programs, and use advanced data step techniques and procedures to manipulate data.  these skills prepare you for the sas advanced programming professional certification exam.  \\napplied learning project\\ntwo projects are included as honors lessons in this professional certificate program. each project will demonstrate your comprehensive knowledge of the learned sas programming skills. in the first project, you use sql to analyze to analyze passenger claims at united states airports. in the second project, you use the sas macro language to automate reporting and analysis of analysis of supplier sales.\",\n          \"very nice and informative course for the beginers but i have one suggestion kindly provide the material in pdf format too becuace whenever learner want to recall the conetent he can revise and review\",\n          \"this specialization is about building an in-depth understanding of batteries in electric vehicles scenarios. the courses comprise topics such as batteries and their types, applications, architecture, cell chemistries, battery charging its modes & standards, battery management systems, cell balancing, wire harness, and battery connectors. \\napplied learning project\\nthis specialization will include a lab project in course 5. learners will select a topic from one of the five courses and prepare a lab report on developments in technology, current research, potential environmental impacts etc. reports will be peer reviewed and submitted in module five of course five.\"\n        ],\n        \"semantic_type\": \"\",\n        \"description\": \"\"\n      }\n    },\n    {\n      \"column\": \"provider\",\n      \"properties\": {\n        \"dtype\": \"category\",\n        \"num_unique_values\": 159,\n        \"samples\": [\n          \"university of new mexico\",\n          \"nvidia\",\n          \"databricks\"\n        ],\n        \"semantic_type\": \"\",\n        \"description\": \"\"\n      }\n    },\n    {\n      \"column\": \"url\",\n      \"properties\": {\n        \"dtype\": \"string\",\n        \"num_unique_values\": 991,\n        \"samples\": [\n          \"https://www.coursera.org/professional-certificates/sas-advanced-programmer\",\n          \"https://www.coursera.org/learn/introduction-to-software-engineering\",\n          \"https://www.coursera.org/specializations/bayesian-statistics\"\n        ],\n        \"semantic_type\": \"\",\n        \"description\": \"\"\n      }\n    },\n    {\n      \"column\": \"price\",\n      \"properties\": {\n        \"dtype\": \"number\",\n        \"std\": 0,\n        \"min\": 0,\n        \"max\": 0,\n        \"num_unique_values\": 1,\n        \"samples\": [\n          0\n        ],\n        \"semantic_type\": \"\",\n        \"description\": \"\"\n      }\n    },\n    {\n      \"column\": \"is_free\",\n      \"properties\": {\n        \"dtype\": \"boolean\",\n        \"num_unique_values\": 1,\n        \"samples\": [\n          true\n        ],\n        \"semantic_type\": \"\",\n        \"description\": \"\"\n      }\n    },\n    {\n      \"column\": \"level\",\n      \"properties\": {\n        \"dtype\": \"category\",\n        \"num_unique_values\": 4,\n        \"samples\": [\n          \"beginner\"\n        ],\n        \"semantic_type\": \"\",\n        \"description\": \"\"\n      }\n    },\n    {\n      \"column\": \"hours\",\n      \"properties\": {\n        \"dtype\": \"number\",\n        \"std\": 63.88080509654276,\n        \"min\": 2.0,\n        \"max\": 180.0,\n        \"num_unique_values\": 4,\n        \"samples\": [\n          25.0\n        ],\n        \"semantic_type\": \"\",\n        \"description\": \"\"\n      }\n    },\n    {\n      \"column\": \"rating\",\n      \"properties\": {\n        \"dtype\": \"number\",\n        \"std\": 0.19414349483569177,\n        \"min\": 2.7,\n        \"max\": 5.0,\n        \"num_unique_values\": 17,\n        \"samples\": [\n          5.0\n        ],\n        \"semantic_type\": \"\",\n        \"description\": \"\"\n      }\n    },\n    {\n      \"column\": \"language\",\n      \"properties\": {\n        \"dtype\": \"category\",\n        \"num_unique_values\": 1,\n        \"samples\": [\n          \"english\"\n        ],\n        \"semantic_type\": \"\",\n        \"description\": \"\"\n      }\n    },\n    {\n      \"column\": \"certificate_type\",\n      \"properties\": {\n        \"dtype\": \"category\",\n        \"num_unique_values\": 4,\n        \"samples\": [\n          \"Course\"\n        ],\n        \"semantic_type\": \"\",\n        \"description\": \"\"\n      }\n    },\n    {\n      \"column\": \"reviews_count\",\n      \"properties\": {\n        \"dtype\": \"number\",\n        \"std\": 288.5079545689241,\n        \"min\": 6.0,\n        \"max\": 993.0,\n        \"num_unique_values\": 292,\n        \"samples\": [\n          327.0\n        ],\n        \"semantic_type\": \"\",\n        \"description\": \"\"\n      }\n    },\n    {\n      \"column\": \"students_enrolled\",\n      \"properties\": {\n        \"dtype\": \"number\",\n        \"std\": 315823.54372766137,\n        \"min\": 1544.0,\n        \"max\": 4594817.0,\n        \"num_unique_values\": 946,\n        \"samples\": [\n          96049.0\n        ],\n        \"semantic_type\": \"\",\n        \"description\": \"\"\n      }\n    },\n    {\n      \"column\": \"summary\",\n      \"properties\": {\n        \"dtype\": \"string\",\n        \"num_unique_values\": 580,\n        \"samples\": [\n          \"[' Understand what ADHD is and the challenges related to this disorder  ', ' Familiarize yourself with the diagnostic and therapeutic issues of this disorder  ', ' Know the biological, psychological and environmental interventions  ']\"\n        ],\n        \"semantic_type\": \"\",\n        \"description\": \"\"\n      }\n    },\n    {\n      \"column\": \"tags\",\n      \"properties\": {\n        \"dtype\": \"string\",\n        \"num_unique_values\": 529,\n        \"samples\": [\n          \"business,mathematics,economics,data-science,machine-learning\"\n        ],\n        \"semantic_type\": \"\",\n        \"description\": \"\"\n      }\n    }\n  ]\n}",
       "type": "dataframe",
       "variable_name": "data"
      },
      "text/html": [
       "\n",
       "  <div id=\"df-9b65c1e6-e017-4353-af97-896b7b6dad5a\" class=\"colab-df-container\">\n",
       "    <div>\n",
       "<style scoped>\n",
       "    .dataframe tbody tr th:only-of-type {\n",
       "        vertical-align: middle;\n",
       "    }\n",
       "\n",
       "    .dataframe tbody tr th {\n",
       "        vertical-align: top;\n",
       "    }\n",
       "\n",
       "    .dataframe thead th {\n",
       "        text-align: right;\n",
       "    }\n",
       "</style>\n",
       "<table border=\"1\" class=\"dataframe\">\n",
       "  <thead>\n",
       "    <tr style=\"text-align: right;\">\n",
       "      <th></th>\n",
       "      <th>title</th>\n",
       "      <th>description</th>\n",
       "      <th>provider</th>\n",
       "      <th>url</th>\n",
       "      <th>price</th>\n",
       "      <th>is_free</th>\n",
       "      <th>level</th>\n",
       "      <th>hours</th>\n",
       "      <th>rating</th>\n",
       "      <th>language</th>\n",
       "      <th>certificate_type</th>\n",
       "      <th>reviews_count</th>\n",
       "      <th>students_enrolled</th>\n",
       "      <th>summary</th>\n",
       "      <th>tags</th>\n",
       "    </tr>\n",
       "  </thead>\n",
       "  <tbody>\n",
       "    <tr>\n",
       "      <th>0</th>\n",
       "      <td>healthier materials and sustainable building</td>\n",
       "      <td>in the healthier materials and sustainable bui...</td>\n",
       "      <td>parsons school of design, the new school</td>\n",
       "      <td>https://www.coursera.org/specializations/healt...</td>\n",
       "      <td>0</td>\n",
       "      <td>True</td>\n",
       "      <td>intermediate</td>\n",
       "      <td>80.0</td>\n",
       "      <td>5.0</td>\n",
       "      <td>english</td>\n",
       "      <td>Specialization</td>\n",
       "      <td>9.0</td>\n",
       "      <td>NaN</td>\n",
       "      <td>['Examine the human health, environmental, and...</td>\n",
       "      <td>design,machine-learning,health</td>\n",
       "    </tr>\n",
       "    <tr>\n",
       "      <th>1</th>\n",
       "      <td>computational neuroscience</td>\n",
       "      <td>embark on an exciting journey into the world o...</td>\n",
       "      <td>university of washington</td>\n",
       "      <td>https://www.coursera.org/learn/computational-n...</td>\n",
       "      <td>0</td>\n",
       "      <td>True</td>\n",
       "      <td>beginner</td>\n",
       "      <td>80.0</td>\n",
       "      <td>5.0</td>\n",
       "      <td>english</td>\n",
       "      <td>Course</td>\n",
       "      <td>6.0</td>\n",
       "      <td>NaN</td>\n",
       "      <td>['Understand and perform basic security tasks ...</td>\n",
       "      <td>design,cybersecurity,machine-learning</td>\n",
       "    </tr>\n",
       "    <tr>\n",
       "      <th>2</th>\n",
       "      <td>generative ai with large language models</td>\n",
       "      <td>instructed by ai pioneer andrew ng, generative...</td>\n",
       "      <td>deeplearning.ai</td>\n",
       "      <td>https://www.coursera.org/learn/generative-ai-w...</td>\n",
       "      <td>0</td>\n",
       "      <td>True</td>\n",
       "      <td>intermediate</td>\n",
       "      <td>25.0</td>\n",
       "      <td>5.0</td>\n",
       "      <td>english</td>\n",
       "      <td>Course</td>\n",
       "      <td>29.0</td>\n",
       "      <td>38552.0</td>\n",
       "      <td>['What generative AI is and how it works, its ...</td>\n",
       "      <td>business,python,machine-learning</td>\n",
       "    </tr>\n",
       "    <tr>\n",
       "      <th>3</th>\n",
       "      <td>calculus for machine learning and data science</td>\n",
       "      <td>the covid-19 crisis has created an unprecedent...</td>\n",
       "      <td>deeplearning.ai</td>\n",
       "      <td>https://www.coursera.org/learn/machine-learnin...</td>\n",
       "      <td>0</td>\n",
       "      <td>True</td>\n",
       "      <td>beginner</td>\n",
       "      <td>25.0</td>\n",
       "      <td>4.9</td>\n",
       "      <td>english</td>\n",
       "      <td>Course</td>\n",
       "      <td>NaN</td>\n",
       "      <td>1403637.0</td>\n",
       "      <td>['Describe the natural history of SARS-CoV-2 ,...</td>\n",
       "      <td>mathematics,health,communication,data-science,...</td>\n",
       "    </tr>\n",
       "    <tr>\n",
       "      <th>4</th>\n",
       "      <td>customer experiences with contact center ai - ...</td>\n",
       "      <td>in this course, you will:\\n• compare functiona...</td>\n",
       "      <td>google cloud</td>\n",
       "      <td>https://www.coursera.org/specializations/custo...</td>\n",
       "      <td>0</td>\n",
       "      <td>True</td>\n",
       "      <td>intermediate</td>\n",
       "      <td>180.0</td>\n",
       "      <td>4.9</td>\n",
       "      <td>english</td>\n",
       "      <td>Specialization</td>\n",
       "      <td>936.0</td>\n",
       "      <td>30099.0</td>\n",
       "      <td>[]</td>\n",
       "      <td>python,machine-learning</td>\n",
       "    </tr>\n",
       "  </tbody>\n",
       "</table>\n",
       "</div>\n",
       "    <div class=\"colab-df-buttons\">\n",
       "\n",
       "  <div class=\"colab-df-container\">\n",
       "    <button class=\"colab-df-convert\" onclick=\"convertToInteractive('df-9b65c1e6-e017-4353-af97-896b7b6dad5a')\"\n",
       "            title=\"Convert this dataframe to an interactive table.\"\n",
       "            style=\"display:none;\">\n",
       "\n",
       "  <svg xmlns=\"http://www.w3.org/2000/svg\" height=\"24px\" viewBox=\"0 -960 960 960\">\n",
       "    <path d=\"M120-120v-720h720v720H120Zm60-500h600v-160H180v160Zm220 220h160v-160H400v160Zm0 220h160v-160H400v160ZM180-400h160v-160H180v160Zm440 0h160v-160H620v160ZM180-180h160v-160H180v160Zm440 0h160v-160H620v160Z\"/>\n",
       "  </svg>\n",
       "    </button>\n",
       "\n",
       "  <style>\n",
       "    .colab-df-container {\n",
       "      display:flex;\n",
       "      gap: 12px;\n",
       "    }\n",
       "\n",
       "    .colab-df-convert {\n",
       "      background-color: #E8F0FE;\n",
       "      border: none;\n",
       "      border-radius: 50%;\n",
       "      cursor: pointer;\n",
       "      display: none;\n",
       "      fill: #1967D2;\n",
       "      height: 32px;\n",
       "      padding: 0 0 0 0;\n",
       "      width: 32px;\n",
       "    }\n",
       "\n",
       "    .colab-df-convert:hover {\n",
       "      background-color: #E2EBFA;\n",
       "      box-shadow: 0px 1px 2px rgba(60, 64, 67, 0.3), 0px 1px 3px 1px rgba(60, 64, 67, 0.15);\n",
       "      fill: #174EA6;\n",
       "    }\n",
       "\n",
       "    .colab-df-buttons div {\n",
       "      margin-bottom: 4px;\n",
       "    }\n",
       "\n",
       "    [theme=dark] .colab-df-convert {\n",
       "      background-color: #3B4455;\n",
       "      fill: #D2E3FC;\n",
       "    }\n",
       "\n",
       "    [theme=dark] .colab-df-convert:hover {\n",
       "      background-color: #434B5C;\n",
       "      box-shadow: 0px 1px 3px 1px rgba(0, 0, 0, 0.15);\n",
       "      filter: drop-shadow(0px 1px 2px rgba(0, 0, 0, 0.3));\n",
       "      fill: #FFFFFF;\n",
       "    }\n",
       "  </style>\n",
       "\n",
       "    <script>\n",
       "      const buttonEl =\n",
       "        document.querySelector('#df-9b65c1e6-e017-4353-af97-896b7b6dad5a button.colab-df-convert');\n",
       "      buttonEl.style.display =\n",
       "        google.colab.kernel.accessAllowed ? 'block' : 'none';\n",
       "\n",
       "      async function convertToInteractive(key) {\n",
       "        const element = document.querySelector('#df-9b65c1e6-e017-4353-af97-896b7b6dad5a');\n",
       "        const dataTable =\n",
       "          await google.colab.kernel.invokeFunction('convertToInteractive',\n",
       "                                                    [key], {});\n",
       "        if (!dataTable) return;\n",
       "\n",
       "        const docLinkHtml = 'Like what you see? Visit the ' +\n",
       "          '<a target=\"_blank\" href=https://colab.research.google.com/notebooks/data_table.ipynb>data table notebook</a>'\n",
       "          + ' to learn more about interactive tables.';\n",
       "        element.innerHTML = '';\n",
       "        dataTable['output_type'] = 'display_data';\n",
       "        await google.colab.output.renderOutput(dataTable, element);\n",
       "        const docLink = document.createElement('div');\n",
       "        docLink.innerHTML = docLinkHtml;\n",
       "        element.appendChild(docLink);\n",
       "      }\n",
       "    </script>\n",
       "  </div>\n",
       "\n",
       "\n",
       "    <div id=\"df-a6dd2bbc-2ffb-4b42-8f9b-a4b49130db61\">\n",
       "      <button class=\"colab-df-quickchart\" onclick=\"quickchart('df-a6dd2bbc-2ffb-4b42-8f9b-a4b49130db61')\"\n",
       "                title=\"Suggest charts\"\n",
       "                style=\"display:none;\">\n",
       "\n",
       "<svg xmlns=\"http://www.w3.org/2000/svg\" height=\"24px\"viewBox=\"0 0 24 24\"\n",
       "     width=\"24px\">\n",
       "    <g>\n",
       "        <path d=\"M19 3H5c-1.1 0-2 .9-2 2v14c0 1.1.9 2 2 2h14c1.1 0 2-.9 2-2V5c0-1.1-.9-2-2-2zM9 17H7v-7h2v7zm4 0h-2V7h2v10zm4 0h-2v-4h2v4z\"/>\n",
       "    </g>\n",
       "</svg>\n",
       "      </button>\n",
       "\n",
       "<style>\n",
       "  .colab-df-quickchart {\n",
       "      --bg-color: #E8F0FE;\n",
       "      --fill-color: #1967D2;\n",
       "      --hover-bg-color: #E2EBFA;\n",
       "      --hover-fill-color: #174EA6;\n",
       "      --disabled-fill-color: #AAA;\n",
       "      --disabled-bg-color: #DDD;\n",
       "  }\n",
       "\n",
       "  [theme=dark] .colab-df-quickchart {\n",
       "      --bg-color: #3B4455;\n",
       "      --fill-color: #D2E3FC;\n",
       "      --hover-bg-color: #434B5C;\n",
       "      --hover-fill-color: #FFFFFF;\n",
       "      --disabled-bg-color: #3B4455;\n",
       "      --disabled-fill-color: #666;\n",
       "  }\n",
       "\n",
       "  .colab-df-quickchart {\n",
       "    background-color: var(--bg-color);\n",
       "    border: none;\n",
       "    border-radius: 50%;\n",
       "    cursor: pointer;\n",
       "    display: none;\n",
       "    fill: var(--fill-color);\n",
       "    height: 32px;\n",
       "    padding: 0;\n",
       "    width: 32px;\n",
       "  }\n",
       "\n",
       "  .colab-df-quickchart:hover {\n",
       "    background-color: var(--hover-bg-color);\n",
       "    box-shadow: 0 1px 2px rgba(60, 64, 67, 0.3), 0 1px 3px 1px rgba(60, 64, 67, 0.15);\n",
       "    fill: var(--button-hover-fill-color);\n",
       "  }\n",
       "\n",
       "  .colab-df-quickchart-complete:disabled,\n",
       "  .colab-df-quickchart-complete:disabled:hover {\n",
       "    background-color: var(--disabled-bg-color);\n",
       "    fill: var(--disabled-fill-color);\n",
       "    box-shadow: none;\n",
       "  }\n",
       "\n",
       "  .colab-df-spinner {\n",
       "    border: 2px solid var(--fill-color);\n",
       "    border-color: transparent;\n",
       "    border-bottom-color: var(--fill-color);\n",
       "    animation:\n",
       "      spin 1s steps(1) infinite;\n",
       "  }\n",
       "\n",
       "  @keyframes spin {\n",
       "    0% {\n",
       "      border-color: transparent;\n",
       "      border-bottom-color: var(--fill-color);\n",
       "      border-left-color: var(--fill-color);\n",
       "    }\n",
       "    20% {\n",
       "      border-color: transparent;\n",
       "      border-left-color: var(--fill-color);\n",
       "      border-top-color: var(--fill-color);\n",
       "    }\n",
       "    30% {\n",
       "      border-color: transparent;\n",
       "      border-left-color: var(--fill-color);\n",
       "      border-top-color: var(--fill-color);\n",
       "      border-right-color: var(--fill-color);\n",
       "    }\n",
       "    40% {\n",
       "      border-color: transparent;\n",
       "      border-right-color: var(--fill-color);\n",
       "      border-top-color: var(--fill-color);\n",
       "    }\n",
       "    60% {\n",
       "      border-color: transparent;\n",
       "      border-right-color: var(--fill-color);\n",
       "    }\n",
       "    80% {\n",
       "      border-color: transparent;\n",
       "      border-right-color: var(--fill-color);\n",
       "      border-bottom-color: var(--fill-color);\n",
       "    }\n",
       "    90% {\n",
       "      border-color: transparent;\n",
       "      border-bottom-color: var(--fill-color);\n",
       "    }\n",
       "  }\n",
       "</style>\n",
       "\n",
       "      <script>\n",
       "        async function quickchart(key) {\n",
       "          const quickchartButtonEl =\n",
       "            document.querySelector('#' + key + ' button');\n",
       "          quickchartButtonEl.disabled = true;  // To prevent multiple clicks.\n",
       "          quickchartButtonEl.classList.add('colab-df-spinner');\n",
       "          try {\n",
       "            const charts = await google.colab.kernel.invokeFunction(\n",
       "                'suggestCharts', [key], {});\n",
       "          } catch (error) {\n",
       "            console.error('Error during call to suggestCharts:', error);\n",
       "          }\n",
       "          quickchartButtonEl.classList.remove('colab-df-spinner');\n",
       "          quickchartButtonEl.classList.add('colab-df-quickchart-complete');\n",
       "        }\n",
       "        (() => {\n",
       "          let quickchartButtonEl =\n",
       "            document.querySelector('#df-a6dd2bbc-2ffb-4b42-8f9b-a4b49130db61 button');\n",
       "          quickchartButtonEl.style.display =\n",
       "            google.colab.kernel.accessAllowed ? 'block' : 'none';\n",
       "        })();\n",
       "      </script>\n",
       "    </div>\n",
       "\n",
       "    </div>\n",
       "  </div>\n"
      ],
      "text/plain": [
       "                                               title  \\\n",
       "0       healthier materials and sustainable building   \n",
       "1                         computational neuroscience   \n",
       "2           generative ai with large language models   \n",
       "3     calculus for machine learning and data science   \n",
       "4  customer experiences with contact center ai - ...   \n",
       "\n",
       "                                         description  \\\n",
       "0  in the healthier materials and sustainable bui...   \n",
       "1  embark on an exciting journey into the world o...   \n",
       "2  instructed by ai pioneer andrew ng, generative...   \n",
       "3  the covid-19 crisis has created an unprecedent...   \n",
       "4  in this course, you will:\\n• compare functiona...   \n",
       "\n",
       "                                   provider  \\\n",
       "0  parsons school of design, the new school   \n",
       "1                  university of washington   \n",
       "2                           deeplearning.ai   \n",
       "3                           deeplearning.ai   \n",
       "4                              google cloud   \n",
       "\n",
       "                                                 url  price  is_free  \\\n",
       "0  https://www.coursera.org/specializations/healt...      0     True   \n",
       "1  https://www.coursera.org/learn/computational-n...      0     True   \n",
       "2  https://www.coursera.org/learn/generative-ai-w...      0     True   \n",
       "3  https://www.coursera.org/learn/machine-learnin...      0     True   \n",
       "4  https://www.coursera.org/specializations/custo...      0     True   \n",
       "\n",
       "          level  hours  rating language certificate_type  reviews_count  \\\n",
       "0  intermediate   80.0     5.0  english   Specialization            9.0   \n",
       "1      beginner   80.0     5.0  english           Course            6.0   \n",
       "2  intermediate   25.0     5.0  english           Course           29.0   \n",
       "3      beginner   25.0     4.9  english           Course            NaN   \n",
       "4  intermediate  180.0     4.9  english   Specialization          936.0   \n",
       "\n",
       "   students_enrolled                                            summary  \\\n",
       "0                NaN  ['Examine the human health, environmental, and...   \n",
       "1                NaN  ['Understand and perform basic security tasks ...   \n",
       "2            38552.0  ['What generative AI is and how it works, its ...   \n",
       "3          1403637.0  ['Describe the natural history of SARS-CoV-2 ,...   \n",
       "4            30099.0                                                 []   \n",
       "\n",
       "                                                tags  \n",
       "0                     design,machine-learning,health  \n",
       "1              design,cybersecurity,machine-learning  \n",
       "2                   business,python,machine-learning  \n",
       "3  mathematics,health,communication,data-science,...  \n",
       "4                            python,machine-learning  "
      ]
     },
     "execution_count": 4,
     "metadata": {},
     "output_type": "execute_result"
    }
   ],
   "source": [
    "import pandas as pd\n",
    "\n",
    "data = pd.read_parquet(\"/content/course-recommendation-system/data/courses.parquet\")\n",
    "data.head()"
   ]
  },
  {
   "cell_type": "code",
   "execution_count": 5,
   "metadata": {
    "id": "IZ9o3uWJBaZV"
   },
   "outputs": [],
   "source": [
    "text_for_embedding = data['title'] + \". \" + data['description'] + \". \" + data[\"summary\"] + \". \" + data['tags']"
   ]
  },
  {
   "cell_type": "code",
   "execution_count": 7,
   "metadata": {
    "id": "c_LcdVqhCCj0"
   },
   "outputs": [],
   "source": [
    "embeddings = model.encode(text_for_embedding)"
   ]
  },
  {
   "cell_type": "code",
   "execution_count": 8,
   "metadata": {
    "id": "B3dt01K_DiXU"
   },
   "outputs": [],
   "source": [
    "import numpy as np\n",
    "\n",
    "np.save('embeddings.npy', embeddings)"
   ]
  },
  {
   "cell_type": "code",
   "execution_count": 13,
   "metadata": {
    "id": "kWnUH9VTDpIM"
   },
   "outputs": [],
   "source": [
    "data[['title' , 'description' , 'summary' , 'tags']].to_parquet('metadata.parquet')"
   ]
  }
 ],
 "metadata": {
  "accelerator": "GPU",
  "colab": {
   "gpuType": "T4",
   "provenance": []
  },
  "kernelspec": {
   "display_name": "Python 3",
   "name": "python3"
  },
  "language_info": {
   "name": "python"
  }
 },
 "nbformat": 4,
 "nbformat_minor": 0
}
